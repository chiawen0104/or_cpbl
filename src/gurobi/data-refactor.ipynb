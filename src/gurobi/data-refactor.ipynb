{
 "cells": [
  {
   "cell_type": "code",
   "execution_count": 15,
   "metadata": {},
   "outputs": [],
   "source": [
    "import json"
   ]
  },
  {
   "cell_type": "code",
   "execution_count": 79,
   "metadata": {},
   "outputs": [],
   "source": [
    "OBP_AVG = 0.327\n",
    "SLG_AVG = 0.365\n",
    "\n",
    "FPCT_AVG = {\n",
    "    '2': 0.992,\n",
    "    '3': 0.993,\n",
    "    '4': 0.977, \n",
    "    '5': 0.929,\n",
    "    '6': 0.964,\n",
    "    '7': 0.977,\n",
    "    '8': 0.988,\n",
    "    '9': 0.976\n",
    "}\n",
    "\n",
    "POSITION_WEIGHT = {\n",
    "    '2': {\"batting\": 0.95, \"fielding\": 1.05},\n",
    "    '3': {\"batting\": 1.21, \"fielding\": 0.83},\n",
    "    '4': {\"batting\": 0.97, \"fielding\": 1.03},\n",
    "    '5': {\"batting\": 0.96, \"fielding\": 1.04},\n",
    "    '6': {\"batting\": 0.94, \"fielding\": 1.06},\n",
    "    '7': {\"batting\": 1.02, \"fielding\": 0.98},\n",
    "    '8': {\"batting\": 1.04, \"fielding\": 0.96},\n",
    "    '9': {\"batting\": 1.17, \"fielding\": 0.85},\n",
    "}\n",
    "\n",
    "OPPONENT_WEIGHT = {\n",
    "    \"brothers\": 1.15,\n",
    "    \"lions\": 1.11,\n",
    "    \"monkeys\": 0.96, \n",
    "    \"guardians\": 0.93,\n",
    "    \"dragons\": 0.85\n",
    "}"
   ]
  },
  {
   "cell_type": "code",
   "execution_count": 26,
   "metadata": {},
   "outputs": [],
   "source": [
    "fileRoot = \"../clean/clean_all_\"\n",
    "teamNameMap = {\n",
    "    \"中信兄弟\": \"brothers\", \n",
    "    \"味全龍\": \"dragons\",\n",
    "    \"富邦悍將\": \"guardians\", \n",
    "    \"統一7-ELEVEn獅\": \"lions\",\n",
    "    \"樂天桃猿\": \"monkeys\"\n",
    "}"
   ]
  },
  {
   "cell_type": "code",
   "execution_count": 81,
   "metadata": {},
   "outputs": [],
   "source": [
    "class Player:\n",
    "    def __init__(self, name, data):\n",
    "        self.name = name\n",
    "        self.data = data\n",
    "\n",
    "        # A_{ij}\n",
    "        canPlay = []\n",
    "        for i in range(9):\n",
    "            if (i + 1) in data[\"fielding\"][\"pos\"]:\n",
    "                canPlay.append(1)\n",
    "            else:\n",
    "                canPlay.append(0)\n",
    "        self.canPlay = canPlay\n",
    "\n",
    "        # F_{ij}\n",
    "        F = {}\n",
    "        for i in data[\"fielding\"][\"pos\"]:\n",
    "            F[str(i)] = float(data[\"fielding\"][\"FPCT\"][str(i)]) / FPCT_AVG[str(i)]\n",
    "            if F[str(i)] == 1:\n",
    "                F[str(i)] = 0.98\n",
    "            if F[str(i)] < 0.8:\n",
    "                F[str(i)] = 0.8\n",
    "        self.F = F"
   ]
  },
  {
   "cell_type": "code",
   "execution_count": 82,
   "metadata": {},
   "outputs": [],
   "source": [
    "allData = {}\n",
    "for team in teamNameMap.keys():\n",
    "    with open(fileRoot + team + \".json\", encoding=\"utf-8\") as f:\n",
    "        temp = []\n",
    "        for line in f:\n",
    "            player = json.loads(line)\n",
    "            temp.append(Player(player[\"name\"], player[\"data\"]))\n",
    "        allData[teamNameMap[team]] = temp\n",
    "\n",
    "brothers = allData[\"brothers\"]\n",
    "dragons = allData[\"dragons\"]\n",
    "guardians = allData[\"guardians\"]\n",
    "lions = allData[\"lions\"]\n",
    "monkeys = allData[\"monkeys\"]"
   ]
  },
  {
   "cell_type": "markdown",
   "metadata": {},
   "source": [
    "* $A_{ij}$: whether player $i$ can play position $j$"
   ]
  },
  {
   "cell_type": "code",
   "execution_count": 73,
   "metadata": {},
   "outputs": [
    {
     "name": "stdout",
     "output_type": "stream",
     "text": [
      "王威晨 [0, 0, 0, 1, 1, 0, 0, 0, 0]\n"
     ]
    }
   ],
   "source": [
    "print(brothers[0].name, brothers[0].canPlay)"
   ]
  },
  {
   "cell_type": "markdown",
   "metadata": {},
   "source": [
    "* $B_i$"
   ]
  },
  {
   "cell_type": "code",
   "execution_count": 52,
   "metadata": {},
   "outputs": [],
   "source": [
    "def calcOPS(OBP, SLG):\n",
    "    return OBP / OBP_AVG + SLG / SLG_AVG - 1"
   ]
  },
  {
   "cell_type": "code",
   "execution_count": 83,
   "metadata": {},
   "outputs": [
    {
     "data": {
      "text/plain": [
       "0.5030619352570793"
      ]
     },
     "execution_count": 83,
     "metadata": {},
     "output_type": "execute_result"
    }
   ],
   "source": [
    "player = brothers[0]\n",
    "aField = \"天母\"\n",
    "aMonth = \"Apr\"\n",
    "aPitcher = \"陳鴻文\"\n",
    "aOppo = \"富邦悍將\"\n",
    "\n",
    "OPSseason = float(player.data[\"batting\"][\"season\"][\"OPS+\"])\n",
    "if OPSseason > 160:\n",
    "    OPSseason = 100\n",
    "if OPSseason < 0:\n",
    "    OPSseason = 0\n",
    "OPSmonth = calcOPS(\n",
    "    float(player.data[\"batting\"][\"month\"][aMonth][\"OBP\"]), \n",
    "    float(player.data[\"batting\"][\"month\"][aMonth][\"TB\"]) / float(player.data[\"batting\"][\"month\"][aMonth][\"AB\"])\n",
    ")\n",
    "OPSfield = calcOPS(\n",
    "    float(player.data[\"batting\"][\"field\"][aField][\"OBP\"]), \n",
    "    float(player.data[\"batting\"][\"field\"][aField][\"TB\"]) / float(player.data[\"batting\"][\"field\"][aField][\"AB\"])\n",
    ")\n",
    "OBPseason = float(player.data[\"batting\"][\"season\"][\"OBP\"])\n",
    "if OBPseason == 0:\n",
    "    OBPseason = 1\n",
    "OBPp = float(player.data[\"batting\"][\"vsP\"][\"data\"][aOppo][aPitcher]) if player.data[\"batting\"][\"vsP\"][\"data\"][aOppo][aPitcher] != '0.000' else OBPseason\n",
    "\n",
    "B = (OPSseason + OPSmonth + OPSfield + OBPp * 100 / OBPseason) / 400\n",
    "B"
   ]
  },
  {
   "cell_type": "markdown",
   "metadata": {},
   "source": [
    "* $F_{ij}$"
   ]
  },
  {
   "cell_type": "code",
   "execution_count": 84,
   "metadata": {},
   "outputs": [
    {
     "data": {
      "text/plain": [
       "{'4': 0.8, '5': 1.0563061476856834}"
      ]
     },
     "execution_count": 84,
     "metadata": {},
     "output_type": "execute_result"
    }
   ],
   "source": [
    "player.F"
   ]
  },
  {
   "cell_type": "markdown",
   "metadata": {},
   "source": [
    "* $V_{ij}$"
   ]
  },
  {
   "cell_type": "code",
   "execution_count": 85,
   "metadata": {},
   "outputs": [
    {
     "name": "stdout",
     "output_type": "stream",
     "text": [
      "1.311970077199367\n",
      "1.5814978514399067\n"
     ]
    }
   ],
   "source": [
    "for i in player.data[\"fielding\"][\"pos\"]:\n",
    "    print(POSITION_WEIGHT[str(i)][\"batting\"] * B + POSITION_WEIGHT[str(i)][\"fielding\"] * player.F[str(i)])"
   ]
  }
 ],
 "metadata": {
  "interpreter": {
   "hash": "263930470851f494f0ed2879c35b57985588df20f9e529b86e97dd5eb9ddc466"
  },
  "kernelspec": {
   "display_name": "Python 3.8.5 ('base')",
   "language": "python",
   "name": "python3"
  },
  "language_info": {
   "codemirror_mode": {
    "name": "ipython",
    "version": 3
   },
   "file_extension": ".py",
   "mimetype": "text/x-python",
   "name": "python",
   "nbconvert_exporter": "python",
   "pygments_lexer": "ipython3",
   "version": "3.8.5"
  },
  "orig_nbformat": 4
 },
 "nbformat": 4,
 "nbformat_minor": 2
}
