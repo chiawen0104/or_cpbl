{
 "cells": [
  {
   "cell_type": "code",
   "execution_count": 58,
   "metadata": {},
   "outputs": [],
   "source": [
    "import requests\n",
    "import json\n",
    "from bs4 import BeautifulSoup\n",
    "import time\n",
    "\n",
    "import csv\n",
    "import pandas as pd\n",
    "from selenium import webdriver\n",
    "from selenium.webdriver.common.keys import Keys\n",
    "from selenium.webdriver.support.ui import Select\n",
    "from selenium.webdriver.common.by import By\n",
    "import time\n",
    "user = \"Mozilla/5.0 (Macintosh; Intel Mac OS X 10_15_7) AppleWebKit/537.36 (KHTML, like Gecko) Chrome/95.0.4638.69 Safari/537.36\"\n",
    "headers = {\n",
    "    'User-Agent': user\n",
    "}"
   ]
  },
  {
   "cell_type": "markdown",
   "metadata": {},
   "source": [
    "## 球員名單"
   ]
  },
  {
   "cell_type": "code",
   "execution_count": 77,
   "metadata": {},
   "outputs": [
    {
     "name": "stdout",
     "output_type": "stream",
     "text": [
      "5\n"
     ]
    },
    {
     "name": "stderr",
     "output_type": "stream",
     "text": [
      "/Users/mac/Desktop/大學資料/OR/venv/lib/python3.9/site-packages/urllib3/connectionpool.py:1043: InsecureRequestWarning: Unverified HTTPS request is being made to host 'www.cpbl.com.tw'. Adding certificate verification is strongly advised. See: https://urllib3.readthedocs.io/en/1.26.x/advanced-usage.html#ssl-warnings\n",
      "  warnings.warn(\n"
     ]
    }
   ],
   "source": [
    "\n",
    "main_url = \"https://www.cpbl.com.tw/\"\n",
    "\n",
    "url = \"https://www.cpbl.com.tw/player\"\n",
    "\n",
    "res = requests.get(url, headers = headers,verify=False)\n",
    "soup = BeautifulSoup(res.text, 'html.parser')\n",
    "\n",
    "results_player= (soup.find_all(class_='PlayersList'))\n",
    "\n",
    "print(len(results_player)) # 圖片數量\n"
   ]
  },
  {
   "cell_type": "code",
   "execution_count": 101,
   "metadata": {},
   "outputs": [],
   "source": [
    "# print(results_player[0])"
   ]
  },
  {
   "cell_type": "code",
   "execution_count": 79,
   "metadata": {},
   "outputs": [],
   "source": [
    "def get_player(results):\n",
    "    team_player = results.find_all(\"a\")\n",
    "    team_title = results.find(\"dt\").text\n",
    "\n",
    "    return team_title, team_player"
   ]
  },
  {
   "cell_type": "code",
   "execution_count": 80,
   "metadata": {},
   "outputs": [],
   "source": [
    "data = {}\n",
    "for i in results_player:\n",
    "    team = {}\n",
    "    team_title, team_player = get_player(i)\n",
    "    for p in team_player:\n",
    "        player_id = p.get(\"href\").split(\"=\")[-1]\n",
    "        team[p.text] = player_id #p.get(\"href\")\n",
    "    data[team_title] = team"
   ]
  },
  {
   "cell_type": "code",
   "execution_count": 100,
   "metadata": {},
   "outputs": [
    {
     "name": "stdout",
     "output_type": "stream",
     "text": [
      "dict_keys(['中信兄弟', '味全龍', '統一7-ELEVEn獅', '富邦悍將', '樂天桃猿'])\n"
     ]
    }
   ],
   "source": [
    "# print(data.keys())\n",
    "team_name = [\"中信兄弟\",\"味全龍\",\"統一7-ELEVEn獅\",\"富邦悍將\",\"樂天桃猿\"]\n",
    "print(data.keys())\n",
    "with open(\"player_list.json\", \"w\") as f:\n",
    "    json.dump(data, f, indent=4, ensure_ascii=False)"
   ]
  },
  {
   "cell_type": "markdown",
   "metadata": {},
   "source": [
    "## 分項資料"
   ]
  },
  {
   "cell_type": "code",
   "execution_count": 1,
   "metadata": {},
   "outputs": [],
   "source": [
    "# data (player_list) -> need to open json player_list.json\n",
    " \n",
    "import json\n",
    "# Opening JSON file\n",
    "f = open('player_list.json')\n",
    "player_list = json.load(f)\n",
    "# for i in player_list:\n",
    "#     print(player_list[i])\n",
    "#     break\n",
    "f.close()"
   ]
  },
  {
   "cell_type": "code",
   "execution_count": 2,
   "metadata": {},
   "outputs": [],
   "source": [
    "# data (player_list) -> need to open json player_list.json\n",
    "\n",
    "player_web_list = {}\n",
    "for team in player_list:\n",
    "    temp = []\n",
    "    for player in player_list[team]:\n",
    "        web = \"https://www.cpbl.com.tw/team/apart?Acnt={}\".format(player_list[team][player])\n",
    "        temp.append(web)\n",
    "    player_web_list[team] = temp\n",
    "\n",
    "# fight_url = [\"https://www.cpbl.com.tw/team/fighting?Acnt=0000004636\"]"
   ]
  },
  {
   "cell_type": "code",
   "execution_count": 3,
   "metadata": {},
   "outputs": [],
   "source": [
    "from selenium import webdriver\n",
    "from selenium.webdriver.support.ui import Select\n",
    "\n",
    "def check_year(check):\n",
    "    if \"2021\" not in check:\n",
    "        return True\n",
    "\n",
    "def get_data(driver):\n",
    "    check = driver.find_element_by_name('year')\n",
    "    check = check.text\n",
    "    check = check.split(\"\\n\")\n",
    "    if check_year(check):\n",
    "        return True\n",
    "    select = Select(driver.find_element_by_name('year'))\n",
    "    select.select_by_value(\"2021\")\n",
    "    button = driver.find_element_by_css_selector(\".btn\")\n",
    "    time.sleep(1)\n",
    "    button.click()\n",
    "    time.sleep(1)\n",
    "    return False\n",
    "\n",
    "def get_detail(content):\n",
    "    player_detail = []\n",
    "    for i in content:\n",
    "        if i.text != \"\":\n",
    "            detail = i.text\n",
    "            detail = detail.split(\" \")\n",
    "            if len(detail) != 16:\n",
    "                continue\n",
    "            player_detail.append(detail)\n",
    "    \n",
    "    return player_detail\n",
    "\n",
    "def web_to_data(driver,test_url):\n",
    "    player_detail = []\n",
    "    for url in test_url:\n",
    "        print(url)\n",
    "        player = {}\n",
    "        driver.get(url)\n",
    "        position = driver.find_element_by_class_name('pos')\n",
    "        position = position.text\n",
    "        position = position.split(\"\\n\")\n",
    "        position = position[1]\n",
    "        exit = get_data(driver)\n",
    "        if exit:\n",
    "            continue\n",
    "\n",
    "        if position == \"投手\":\n",
    "            continue\n",
    "        content = driver.find_elements_by_css_selector('tr')\n",
    "        detail = get_detail(content)\n",
    "        name = driver.find_element_by_class_name('name')\n",
    "    \n",
    "        player[\"name\"] = name.text\n",
    "        player[\"position\"] = position\n",
    "        player[\"detail\"] = detail\n",
    "        player_detail.append(player)\n",
    "\n",
    "    return player_detail\n"
   ]
  },
  {
   "cell_type": "code",
   "execution_count": 15,
   "metadata": {},
   "outputs": [
    {
     "name": "stderr",
     "output_type": "stream",
     "text": [
      "/var/folders/8w/mfchs_0n4bd8hdwxjs7plcrc0000gn/T/ipykernel_91584/124341357.py:5: DeprecationWarning: executable_path has been deprecated, please pass in a Service object\n",
      "  driver = webdriver.Chrome(\"/Users/mac/Desktop/大學資料/OR/chromedriver\")\n"
     ]
    },
    {
     "name": "stdout",
     "output_type": "stream",
     "text": [
      "https://www.cpbl.com.tw/team/apart?Acnt=0000006718\n"
     ]
    },
    {
     "name": "stderr",
     "output_type": "stream",
     "text": [
      "/var/folders/8w/mfchs_0n4bd8hdwxjs7plcrc0000gn/T/ipykernel_91584/3822692903.py:40: DeprecationWarning: find_element_by_class_name is deprecated. Please use find_element(by=By.CLASS_NAME, value=name) instead\n",
      "  position = driver.find_element_by_class_name('pos')\n",
      "/var/folders/8w/mfchs_0n4bd8hdwxjs7plcrc0000gn/T/ipykernel_91584/3822692903.py:9: DeprecationWarning: find_element_by_name is deprecated. Please use find_element(by=By.NAME, value=name) instead\n",
      "  check = driver.find_element_by_name('year')\n"
     ]
    },
    {
     "name": "stdout",
     "output_type": "stream",
     "text": [
      "https://www.cpbl.com.tw/team/apart?Acnt=0000006228\n"
     ]
    },
    {
     "name": "stderr",
     "output_type": "stream",
     "text": [
      "/var/folders/8w/mfchs_0n4bd8hdwxjs7plcrc0000gn/T/ipykernel_91584/3822692903.py:14: DeprecationWarning: find_element_by_name is deprecated. Please use find_element(by=By.NAME, value=name) instead\n",
      "  select = Select(driver.find_element_by_name('year'))\n",
      "/var/folders/8w/mfchs_0n4bd8hdwxjs7plcrc0000gn/T/ipykernel_91584/3822692903.py:16: DeprecationWarning: find_element_by_css_selector is deprecated. Please use find_element(by=By.CSS_SELECTOR, value=css_selector) instead\n",
      "  button = driver.find_element_by_css_selector(\".btn\")\n"
     ]
    },
    {
     "name": "stdout",
     "output_type": "stream",
     "text": [
      "https://www.cpbl.com.tw/team/apart?Acnt=0000003465\n",
      "https://www.cpbl.com.tw/team/apart?Acnt=0000001390\n",
      "https://www.cpbl.com.tw/team/apart?Acnt=0000000159\n"
     ]
    },
    {
     "name": "stderr",
     "output_type": "stream",
     "text": [
      "/var/folders/8w/mfchs_0n4bd8hdwxjs7plcrc0000gn/T/ipykernel_91584/3822692903.py:50: DeprecationWarning: find_elements_by_css_selector is deprecated. Please use find_elements(by=By.CSS_SELECTOR, value=css_selector) instead\n",
      "  content = driver.find_elements_by_css_selector('tr')\n",
      "/var/folders/8w/mfchs_0n4bd8hdwxjs7plcrc0000gn/T/ipykernel_91584/3822692903.py:52: DeprecationWarning: find_element_by_class_name is deprecated. Please use find_element(by=By.CLASS_NAME, value=name) instead\n",
      "  name = driver.find_element_by_class_name('name')\n"
     ]
    },
    {
     "name": "stdout",
     "output_type": "stream",
     "text": [
      "https://www.cpbl.com.tw/team/apart?Acnt=0000001318\n",
      "https://www.cpbl.com.tw/team/apart?Acnt=0000000128\n",
      "https://www.cpbl.com.tw/team/apart?Acnt=0000006231\n",
      "https://www.cpbl.com.tw/team/apart?Acnt=0000003563\n",
      "https://www.cpbl.com.tw/team/apart?Acnt=0000005559\n",
      "https://www.cpbl.com.tw/team/apart?Acnt=0000006710\n",
      "https://www.cpbl.com.tw/team/apart?Acnt=0000006237\n",
      "https://www.cpbl.com.tw/team/apart?Acnt=0000002286\n",
      "https://www.cpbl.com.tw/team/apart?Acnt=0000000153\n",
      "https://www.cpbl.com.tw/team/apart?Acnt=0000003467\n",
      "https://www.cpbl.com.tw/team/apart?Acnt=0000001414\n",
      "https://www.cpbl.com.tw/team/apart?Acnt=0000006235\n",
      "https://www.cpbl.com.tw/team/apart?Acnt=0000003345\n",
      "https://www.cpbl.com.tw/team/apart?Acnt=0000006226\n",
      "https://www.cpbl.com.tw/team/apart?Acnt=0000005510\n",
      "https://www.cpbl.com.tw/team/apart?Acnt=0000004634\n",
      "https://www.cpbl.com.tw/team/apart?Acnt=0000006234\n",
      "https://www.cpbl.com.tw/team/apart?Acnt=0000006720\n",
      "https://www.cpbl.com.tw/team/apart?Acnt=0000004632\n",
      "https://www.cpbl.com.tw/team/apart?Acnt=0000004770\n",
      "https://www.cpbl.com.tw/team/apart?Acnt=0000004646\n",
      "https://www.cpbl.com.tw/team/apart?Acnt=0000006240\n",
      "https://www.cpbl.com.tw/team/apart?Acnt=0000000151\n",
      "https://www.cpbl.com.tw/team/apart?Acnt=0000006715\n",
      "https://www.cpbl.com.tw/team/apart?Acnt=0000005511\n",
      "https://www.cpbl.com.tw/team/apart?Acnt=0000002282\n",
      "https://www.cpbl.com.tw/team/apart?Acnt=0000000132\n",
      "https://www.cpbl.com.tw/team/apart?Acnt=0000005509\n",
      "https://www.cpbl.com.tw/team/apart?Acnt=0000003631\n",
      "https://www.cpbl.com.tw/team/apart?Acnt=0000005285\n",
      "https://www.cpbl.com.tw/team/apart?Acnt=0000003174\n",
      "https://www.cpbl.com.tw/team/apart?Acnt=0000003343\n",
      "https://www.cpbl.com.tw/team/apart?Acnt=0000004624\n",
      "https://www.cpbl.com.tw/team/apart?Acnt=0000003609\n",
      "https://www.cpbl.com.tw/team/apart?Acnt=0000000941\n",
      "https://www.cpbl.com.tw/team/apart?Acnt=0000000135\n",
      "https://www.cpbl.com.tw/team/apart?Acnt=0000004633\n",
      "https://www.cpbl.com.tw/team/apart?Acnt=0000003608\n",
      "https://www.cpbl.com.tw/team/apart?Acnt=0000002273\n",
      "https://www.cpbl.com.tw/team/apart?Acnt=0000001617\n",
      "https://www.cpbl.com.tw/team/apart?Acnt=0000001286\n",
      "https://www.cpbl.com.tw/team/apart?Acnt=0000002274\n",
      "https://www.cpbl.com.tw/team/apart?Acnt=0000003616\n",
      "https://www.cpbl.com.tw/team/apart?Acnt=0000000161\n",
      "https://www.cpbl.com.tw/team/apart?Acnt=0000006721\n",
      "https://www.cpbl.com.tw/team/apart?Acnt=0000000160\n",
      "https://www.cpbl.com.tw/team/apart?Acnt=0000000152\n",
      "https://www.cpbl.com.tw/team/apart?Acnt=0000000158\n",
      "https://www.cpbl.com.tw/team/apart?Acnt=0000006507\n",
      "https://www.cpbl.com.tw/team/apart?Acnt=0000006242\n",
      "https://www.cpbl.com.tw/team/apart?Acnt=0000006202\n",
      "https://www.cpbl.com.tw/team/apart?Acnt=0000006722\n",
      "https://www.cpbl.com.tw/team/apart?Acnt=0000003292\n",
      "https://www.cpbl.com.tw/team/apart?Acnt=0000006714\n",
      "https://www.cpbl.com.tw/team/apart?Acnt=0000003533\n",
      "https://www.cpbl.com.tw/team/apart?Acnt=0000006719\n",
      "https://www.cpbl.com.tw/team/apart?Acnt=0000004032\n",
      "https://www.cpbl.com.tw/team/apart?Acnt=0000000150\n",
      "https://www.cpbl.com.tw/team/apart?Acnt=0000005558\n",
      "https://www.cpbl.com.tw/team/apart?Acnt=0000005085\n"
     ]
    }
   ],
   "source": [
    "team = \"樂天桃猿\"\n",
    "for i in player_web_list:\n",
    "#中信兄弟 味全龍 統一7-ELEVEn獅 富邦悍將 樂天桃猿\n",
    "    if i == team:\n",
    "        driver = webdriver.Chrome(\"/Users/mac/Desktop/大學資料/OR/chromedriver\")\n",
    "        player_detail = web_to_data(driver,player_web_list[i])"
   ]
  },
  {
   "cell_type": "code",
   "execution_count": 16,
   "metadata": {},
   "outputs": [
    {
     "name": "stdout",
     "output_type": "stream",
     "text": [
      "23\n"
     ]
    }
   ],
   "source": [
    "print(len(player_detail))"
   ]
  },
  {
   "cell_type": "code",
   "execution_count": 17,
   "metadata": {},
   "outputs": [
    {
     "name": "stdout",
     "output_type": "stream",
     "text": [
      "    name position                                             detail\n",
      "0   成晉35     中外野手  [[分項成績, 打席, 打數, 打點, 安打, 二安, 三安, 全壘打, 壘打數, 打擊率,...\n",
      "1  朱育賢85      一壘手  [[分項成績, 打席, 打數, 打點, 安打, 二安, 三安, 全壘打, 壘打數, 打擊率,...\n",
      "2  余德龍36     左外野手  [[分項成績, 打席, 打數, 打點, 安打, 二安, 三安, 全壘打, 壘打數, 打擊率,...\n",
      "3   林立39      三壘手  [[分項成績, 打席, 打數, 打點, 安打, 二安, 三安, 全壘打, 壘打數, 打擊率,...\n",
      "4   林承飛6      游擊手  [[分項成績, 打席, 打數, 打點, 安打, 二安, 三安, 全壘打, 壘打數, 打擊率,...\n"
     ]
    }
   ],
   "source": [
    "import json\n",
    "import pandas as pd\n",
    "df = pd.DataFrame(player_detail)\n",
    "print(df.head())\n",
    "df.to_json(\"player_{}.json\".format(team),orient = 'records', lines=True, force_ascii=False)"
   ]
  },
  {
   "cell_type": "markdown",
   "metadata": {},
   "source": [
    "## 對戰資料"
   ]
  },
  {
   "cell_type": "code",
   "execution_count": 18,
   "metadata": {},
   "outputs": [],
   "source": [
    "import json\n",
    "# Opening JSON file\n",
    "f = open('player_list.json')\n",
    "player_list = json.load(f)\n",
    "\n",
    "f.close()"
   ]
  },
  {
   "cell_type": "code",
   "execution_count": 19,
   "metadata": {},
   "outputs": [],
   "source": [
    "# data (player_list) -> need to open json player_list.json\n",
    "\n",
    "fight_web_list = {}\n",
    "for team in player_list:\n",
    "    temp = []\n",
    "    for player in player_list[team]:\n",
    "        web = \"https://www.cpbl.com.tw/team/fighting?Acnt={}\".format(player_list[team][player])\n",
    "        temp.append(web)\n",
    "    fight_web_list[team] = temp\n",
    "\n",
    "# fight_url = [\"https://www.cpbl.com.tw/team/fighting?Acnt=0000004636\"]"
   ]
  },
  {
   "cell_type": "code",
   "execution_count": 101,
   "metadata": {},
   "outputs": [],
   "source": [
    "def check_year(check):\n",
    "    if \"2021\" not in check:\n",
    "        return True\n",
    "\n",
    "def check_team(team_code,check):\n",
    "    if team_code not in check:\n",
    "        # print(team_code)\n",
    "        return True\n",
    "\n",
    "def get_data(driver,team_code,code):\n",
    "    check = driver.find_element(by=By.NAME, value=\"year\")\n",
    "    check = check.text\n",
    "    check = check.split(\"\\n\")\n",
    "    if check_year(check):\n",
    "        return True\n",
    "\n",
    "    check = driver.find_element(by=By.NAME, value=\"fightingTeamNo\") #find_element_by_name('fightingTeamNo')\n",
    "    check = check.text\n",
    "    check = check.split(\"\\n\")\n",
    "    # print(check)\n",
    "    if check_team(team_code,check):\n",
    "        return True\n",
    "    select = Select(driver.find_element(by=By.NAME, value=\"year\")) #find_element_by_name('year'))\n",
    "    select.select_by_value(\"2021\")\n",
    "    select2 = Select(driver.find_element(by=By.NAME, value=\"fightingTeamNo\"))\n",
    "    select2.select_by_value(code) # 味全龍AAA011 富邦悍將AEO011 統一7-ELEVEn獅ADD011 樂天桃猿AJL011\n",
    "    button = driver.find_element(by=By.CSS_SELECTOR, value=\".btn\") #find_element_by_css_selector(\".btn\")\n",
    "    time.sleep(1)\n",
    "    button.click()\n",
    "    time.sleep(1)\n",
    "    return False\n",
    "\n",
    "def get_detail(content):\n",
    "    player_detail = []\n",
    "    for i in content:\n",
    "        if i.text != \"\":\n",
    "            detail = i.text\n",
    "            detail = detail.split(\" \")\n",
    "            player_detail.append(detail)\n",
    "    \n",
    "    return player_detail\n",
    "\n",
    "def web_to_data(driver,test_url,team_code):\n",
    "    player_detail = []\n",
    "    for url in test_url:\n",
    "        print(url)\n",
    "        player = {}\n",
    "        driver.get(url)\n",
    "        position = driver.find_element(by=By.CLASS_NAME, value=\"pos\") #find_element_by_class_name('pos')\n",
    "        position = position.text\n",
    "        position = position.split(\"\\n\")\n",
    "        position = position[1]\n",
    "        if position == \"投手\":\n",
    "            continue\n",
    "        name = driver.find_element(by=By.CLASS_NAME, value=\"name\")\n",
    "        player[\"name\"] = name.text\n",
    "        player[\"position\"] = position\n",
    "\n",
    "        detail_temp = []\n",
    "        for team in team_code:\n",
    "            exit = get_data(driver,team,team_code[team])\n",
    "            if exit:\n",
    "                continue\n",
    "\n",
    "            content = driver.find_elements_by_css_selector('tr')\n",
    "            detail = get_detail(content)\n",
    "            detail_temp += detail\n",
    "        if detail_temp == []:\n",
    "            continue\n",
    "        player[\"detail\"] = detail_temp\n",
    "        player_detail.append(player)\n",
    "\n",
    "    return player_detail\n"
   ]
  },
  {
   "cell_type": "code",
   "execution_count": 115,
   "metadata": {},
   "outputs": [
    {
     "name": "stderr",
     "output_type": "stream",
     "text": [
      "/var/folders/8w/mfchs_0n4bd8hdwxjs7plcrc0000gn/T/ipykernel_91584/769797936.py:9: DeprecationWarning: executable_path has been deprecated, please pass in a Service object\n",
      "  driver = webdriver.Chrome(\"/Users/mac/Desktop/大學資料/OR/chromedriver\")\n"
     ]
    },
    {
     "name": "stdout",
     "output_type": "stream",
     "text": [
      "https://www.cpbl.com.tw/team/fighting?Acnt=0000004639\n",
      "https://www.cpbl.com.tw/team/fighting?Acnt=0000003393\n",
      "https://www.cpbl.com.tw/team/fighting?Acnt=0000004638\n",
      "https://www.cpbl.com.tw/team/fighting?Acnt=0000005731\n",
      "https://www.cpbl.com.tw/team/fighting?Acnt=0000002679\n",
      "https://www.cpbl.com.tw/team/fighting?Acnt=0000003620\n",
      "https://www.cpbl.com.tw/team/fighting?Acnt=0000002696\n"
     ]
    },
    {
     "name": "stderr",
     "output_type": "stream",
     "text": [
      "/var/folders/8w/mfchs_0n4bd8hdwxjs7plcrc0000gn/T/ipykernel_91584/113314652.py:65: DeprecationWarning: find_elements_by_css_selector is deprecated. Please use find_elements(by=By.CSS_SELECTOR, value=css_selector) instead\n",
      "  content = driver.find_elements_by_css_selector('tr')\n"
     ]
    },
    {
     "name": "stdout",
     "output_type": "stream",
     "text": [
      "https://www.cpbl.com.tw/team/fighting?Acnt=0000004635\n",
      "https://www.cpbl.com.tw/team/fighting?Acnt=0000006213\n",
      "https://www.cpbl.com.tw/team/fighting?Acnt=0000002277\n",
      "https://www.cpbl.com.tw/team/fighting?Acnt=0000005482\n",
      "https://www.cpbl.com.tw/team/fighting?Acnt=0000001756\n",
      "https://www.cpbl.com.tw/team/fighting?Acnt=0000004641\n",
      "https://www.cpbl.com.tw/team/fighting?Acnt=0000006127\n",
      "https://www.cpbl.com.tw/team/fighting?Acnt=0000006711\n",
      "https://www.cpbl.com.tw/team/fighting?Acnt=0000006219\n",
      "https://www.cpbl.com.tw/team/fighting?Acnt=0000002695\n",
      "https://www.cpbl.com.tw/team/fighting?Acnt=0000006223\n",
      "https://www.cpbl.com.tw/team/fighting?Acnt=0000002275\n",
      "https://www.cpbl.com.tw/team/fighting?Acnt=0000001606\n",
      "https://www.cpbl.com.tw/team/fighting?Acnt=0000000937\n",
      "https://www.cpbl.com.tw/team/fighting?Acnt=0000006210\n",
      "https://www.cpbl.com.tw/team/fighting?Acnt=0000001339\n",
      "https://www.cpbl.com.tw/team/fighting?Acnt=0000001112\n",
      "https://www.cpbl.com.tw/team/fighting?Acnt=0000002295\n",
      "https://www.cpbl.com.tw/team/fighting?Acnt=0000004642\n",
      "https://www.cpbl.com.tw/team/fighting?Acnt=0000000998\n",
      "https://www.cpbl.com.tw/team/fighting?Acnt=0000005531\n",
      "https://www.cpbl.com.tw/team/fighting?Acnt=0000005282\n",
      "https://www.cpbl.com.tw/team/fighting?Acnt=0000004640\n",
      "https://www.cpbl.com.tw/team/fighting?Acnt=0000002348\n",
      "https://www.cpbl.com.tw/team/fighting?Acnt=0000002350\n",
      "https://www.cpbl.com.tw/team/fighting?Acnt=0000003645\n",
      "https://www.cpbl.com.tw/team/fighting?Acnt=0000006763\n",
      "https://www.cpbl.com.tw/team/fighting?Acnt=0000003615\n",
      "https://www.cpbl.com.tw/team/fighting?Acnt=0000003633\n",
      "https://www.cpbl.com.tw/team/fighting?Acnt=0000001719\n",
      "https://www.cpbl.com.tw/team/fighting?Acnt=0000003284\n",
      "https://www.cpbl.com.tw/team/fighting?Acnt=0000002601\n",
      "https://www.cpbl.com.tw/team/fighting?Acnt=0000004627\n",
      "https://www.cpbl.com.tw/team/fighting?Acnt=0000002344\n",
      "https://www.cpbl.com.tw/team/fighting?Acnt=0000006716\n",
      "https://www.cpbl.com.tw/team/fighting?Acnt=0000006211\n",
      "https://www.cpbl.com.tw/team/fighting?Acnt=0000005306\n",
      "https://www.cpbl.com.tw/team/fighting?Acnt=0000001291\n",
      "https://www.cpbl.com.tw/team/fighting?Acnt=0000001107\n",
      "https://www.cpbl.com.tw/team/fighting?Acnt=0000002298\n",
      "https://www.cpbl.com.tw/team/fighting?Acnt=0000002289\n",
      "https://www.cpbl.com.tw/team/fighting?Acnt=0000001804\n",
      "https://www.cpbl.com.tw/team/fighting?Acnt=0000002661\n",
      "https://www.cpbl.com.tw/team/fighting?Acnt=0000002688\n",
      "https://www.cpbl.com.tw/team/fighting?Acnt=0000003401\n",
      "https://www.cpbl.com.tw/team/fighting?Acnt=0000002303\n",
      "https://www.cpbl.com.tw/team/fighting?Acnt=0000006712\n",
      "https://www.cpbl.com.tw/team/fighting?Acnt=0000005295\n",
      "https://www.cpbl.com.tw/team/fighting?Acnt=0000006713\n",
      "https://www.cpbl.com.tw/team/fighting?Acnt=0000006222\n",
      "https://www.cpbl.com.tw/team/fighting?Acnt=0000006717\n",
      "https://www.cpbl.com.tw/team/fighting?Acnt=0000004637\n",
      "https://www.cpbl.com.tw/team/fighting?Acnt=0000002626\n",
      "https://www.cpbl.com.tw/team/fighting?Acnt=0000002589\n",
      "https://www.cpbl.com.tw/team/fighting?Acnt=0000002707\n",
      "https://www.cpbl.com.tw/team/fighting?Acnt=0000006709\n",
      "https://www.cpbl.com.tw/team/fighting?Acnt=0000002276\n",
      "https://www.cpbl.com.tw/team/fighting?Acnt=0000001240\n",
      "https://www.cpbl.com.tw/team/fighting?Acnt=0000006144\n",
      "https://www.cpbl.com.tw/team/fighting?Acnt=0000006762\n",
      "https://www.cpbl.com.tw/team/fighting?Acnt=0000003551\n",
      "https://www.cpbl.com.tw/team/fighting?Acnt=0000005522\n",
      "https://www.cpbl.com.tw/team/fighting?Acnt=0000006761\n",
      "https://www.cpbl.com.tw/team/fighting?Acnt=0000001474\n"
     ]
    }
   ],
   "source": [
    "team = \"統一7-ELEVEn獅\"\n",
    " # 味全龍AAA011 富邦悍將AEO011 統一7-ELEVEn獅ADD011 樂天桃猿AJL011\n",
    "# '中信兄弟', '富邦悍將', '味全龍', '樂天桃猿', '統一7-ELEVEn獅'\n",
    "team_dict = {'中信兄弟':\"ACN011\", '富邦悍將':\"AEO011\", '味全龍':\"AAA011\" , '樂天桃猿':\"AJL011\", '統一7-ELEVEn獅':\"ADD011\"}\n",
    "team_code = [\"AAA011\",\"AEO011\",\"ADD011\",\"AJL011\"]\n",
    "for i in fight_web_list:\n",
    "#中信兄弟 味全龍 統一7-ELEVEn獅 富邦悍將 樂天桃猿\n",
    "    if i == team:\n",
    "        driver = webdriver.Chrome(\"/Users/mac/Desktop/大學資料/OR/chromedriver\")\n",
    "        player_detail = web_to_data(driver,fight_web_list[i],team_dict)"
   ]
  },
  {
   "cell_type": "code",
   "execution_count": 116,
   "metadata": {},
   "outputs": [
    {
     "name": "stdout",
     "output_type": "stream",
     "text": [
      "28\n"
     ]
    }
   ],
   "source": [
    "print(len(player_detail))"
   ]
  },
  {
   "cell_type": "code",
   "execution_count": 104,
   "metadata": {},
   "outputs": [
    {
     "name": "stdout",
     "output_type": "stream",
     "text": [
      "[['對戰球員', '打席', '打數', '打點', '安打', '二安', '三安', '全壘打', '壘打數', '打擊率', '四壞', '（故四）', '死球', '三振', '上壘率', '滾飛出局比'], ['富邦悍將\\n羅力\\n19', '17', '1', '6', '0', '0', '1', '9', '0.353', '2', '（0）', '0', '2', '0.421', '2.000'], ['富邦悍將\\n范玉禹\\n5', '4', '0', '1', '0', '0', '0', '1', '0.250', '1', '（0）', '0', '1', '0.400', '0.000'], ['富邦悍將\\n陳仕朋\\n11', '10', '0', '1', '0', '0', '0', '1', '0.100', '0', '（0）', '1', '1', '0.182', '1.000'], ['富邦悍將\\n吳世豪\\n3', '2', '0', '0', '0', '0', '0', '0', '0.000', '1', '（0）', '0', '0', '0.333', '1.000'], ['富邦悍將\\n游霆崴\\n20', '18', '1', '9', '1', '1', '0', '12', '0.500', '2', '（0）', '0', '0', '0.550', '1.250'], ['富邦悍將\\n張瑞麟\\n1', '1', '0', '0', '0', '0', '0', '0', '0.000', '0', '（0）', '0', '0', '0.000', '0.000'], ['富邦悍將\\n林逸翔\\n2', '2', '0', '0', '0', '0', '0', '0', '0.000', '0', '（0）', '0', '0', '0.000', '0.000'], ['富邦悍將\\n江少慶\\n8', '6', '2', '2', '1', '0', '0', '3', '0.333', '1', '（0）', '0', '2', '0.375', '2.000'], ['富邦悍將\\n王尉永\\n4', '4', '0', '3', '0', '0', '0', '3', '0.750', '0', '（0）', '0', '0', '0.750', '0.000'], ['富邦悍將\\n林柏佑\\n1', '1', '0', '0', '0', '0', '0', '0', '0.000', '0', '（0）', '0', '0', '0.000', '0.000'], ['富邦悍將\\n陳鴻文\\n15', '15', '1', '5', '0', '0', '0', '5', '0.333', '0', '（0）', '0', '1', '0.333', '1.250'], ['富邦悍將\\n歐書誠\\n1', '1', '0', '0', '0', '0', '0', '0', '0.000', '0', '（0）', '0', '0', '0.000', '0.000'], ['富邦悍將\\n楊彬\\n5', '3', '0', '1', '0', '0', '0', '1', '0.333', '2', '（0）', '0', '0', '0.600', '1.000'], ['富邦悍將\\n索沙\\n4', '4', '0', '2', '0', '0', '0', '2', '0.500', '0', '（0）', '0', '1', '0.500', '0.000'], ['富邦悍將\\n藍愷青\\n6', '6', '0', '2', '0', '0', '0', '2', '0.333', '0', '（0）', '0', '0', '0.333', '3.000'], ['富邦悍將\\n陳韋霖\\n4', '4', '0', '0', '0', '0', '0', '0', '0.000', '0', '（0）', '0', '1', '0.000', '2.000'], ['富邦悍將\\n李建勳\\n3', '3', '0', '0', '0', '0', '0', '0', '0.000', '0', '（0）', '0', '0', '0.000', '0.500'], ['富邦悍將\\n劉劭威\\n1', '1', '0', '1', '0', '0', '0', '1', '1.000', '0', '（0）', '0', '0', '1.000', '0.000'], ['富邦悍將\\n邦威\\n6', '4', '0', '0', '0', '0', '0', '0', '0.000', '2', '（0）', '0', '2', '0.333', '0.000'], ['富邦悍將\\n曾峻岳\\n8', '8', '0', '0', '0', '0', '0', '0', '0.000', '0', '（0）', '0', '1', '0.000', '6.000'], ['富邦悍將\\n傑斯\\n7', '7', '0', '2', '0', '0', '0', '2', '0.286', '0', '（0）', '0', '0', '0.286', '4.000'], ['富邦悍將\\n優瑪\\n7', '6', '1', '1', '0', '0', '0', '1', '0.167', '1', '（0）', '0', '1', '0.286', '3.000'], ['富邦悍將\\n迪倫\\n2', '1', '0', '0', '0', '0', '0', '0', '0.000', '1', '（0）', '0', '0', '0.500', '0.000'], ['對戰球員', '打席', '打數', '打點', '安打', '二安', '三安', '全壘打', '壘打數', '打擊率', '四壞', '（故四）', '死球', '三振', '上壘率', '滾飛出局比'], ['富邦悍將\\n羅力\\n19', '17', '1', '6', '0', '0', '1', '9', '0.353', '2', '（0）', '0', '2', '0.421', '2.000'], ['富邦悍將\\n范玉禹\\n5', '4', '0', '1', '0', '0', '0', '1', '0.250', '1', '（0）', '0', '1', '0.400', '0.000'], ['富邦悍將\\n陳仕朋\\n11', '10', '0', '1', '0', '0', '0', '1', '0.100', '0', '（0）', '1', '1', '0.182', '1.000'], ['富邦悍將\\n吳世豪\\n3', '2', '0', '0', '0', '0', '0', '0', '0.000', '1', '（0）', '0', '0', '0.333', '1.000'], ['富邦悍將\\n游霆崴\\n20', '18', '1', '9', '1', '1', '0', '12', '0.500', '2', '（0）', '0', '0', '0.550', '1.250'], ['富邦悍將\\n張瑞麟\\n1', '1', '0', '0', '0', '0', '0', '0', '0.000', '0', '（0）', '0', '0', '0.000', '0.000'], ['富邦悍將\\n林逸翔\\n2', '2', '0', '0', '0', '0', '0', '0', '0.000', '0', '（0）', '0', '0', '0.000', '0.000'], ['富邦悍將\\n江少慶\\n8', '6', '2', '2', '1', '0', '0', '3', '0.333', '1', '（0）', '0', '2', '0.375', '2.000'], ['富邦悍將\\n王尉永\\n4', '4', '0', '3', '0', '0', '0', '3', '0.750', '0', '（0）', '0', '0', '0.750', '0.000'], ['富邦悍將\\n林柏佑\\n1', '1', '0', '0', '0', '0', '0', '0', '0.000', '0', '（0）', '0', '0', '0.000', '0.000'], ['富邦悍將\\n陳鴻文\\n15', '15', '1', '5', '0', '0', '0', '5', '0.333', '0', '（0）', '0', '1', '0.333', '1.250'], ['富邦悍將\\n歐書誠\\n1', '1', '0', '0', '0', '0', '0', '0', '0.000', '0', '（0）', '0', '0', '0.000', '0.000'], ['富邦悍將\\n楊彬\\n5', '3', '0', '1', '0', '0', '0', '1', '0.333', '2', '（0）', '0', '0', '0.600', '1.000'], ['富邦悍將\\n索沙\\n4', '4', '0', '2', '0', '0', '0', '2', '0.500', '0', '（0）', '0', '1', '0.500', '0.000'], ['富邦悍將\\n藍愷青\\n6', '6', '0', '2', '0', '0', '0', '2', '0.333', '0', '（0）', '0', '0', '0.333', '3.000'], ['富邦悍將\\n陳韋霖\\n4', '4', '0', '0', '0', '0', '0', '0', '0.000', '0', '（0）', '0', '1', '0.000', '2.000'], ['富邦悍將\\n李建勳\\n3', '3', '0', '0', '0', '0', '0', '0', '0.000', '0', '（0）', '0', '0', '0.000', '0.500'], ['富邦悍將\\n劉劭威\\n1', '1', '0', '1', '0', '0', '0', '1', '1.000', '0', '（0）', '0', '0', '1.000', '0.000'], ['富邦悍將\\n邦威\\n6', '4', '0', '0', '0', '0', '0', '0', '0.000', '2', '（0）', '0', '2', '0.333', '0.000'], ['富邦悍將\\n曾峻岳\\n8', '8', '0', '0', '0', '0', '0', '0', '0.000', '0', '（0）', '0', '1', '0.000', '6.000'], ['富邦悍將\\n傑斯\\n7', '7', '0', '2', '0', '0', '0', '2', '0.286', '0', '（0）', '0', '0', '0.286', '4.000'], ['富邦悍將\\n優瑪\\n7', '6', '1', '1', '0', '0', '0', '1', '0.167', '1', '（0）', '0', '1', '0.286', '3.000'], ['富邦悍將\\n迪倫\\n2', '1', '0', '0', '0', '0', '0', '0', '0.000', '1', '（0）', '0', '0', '0.500', '0.000'], ['對戰球員', '打席', '打數', '打點', '安打', '二安', '三安', '全壘打', '壘打數', '打擊率', '四壞', '（故四）', '死球', '三振', '上壘率', '滾飛出局比'], ['味全龍\\n游宗儒\\n1', '1', '0', '0', '0', '0', '0', '0', '0.000', '0', '（0）', '0', '0', '0.000', '0.000'], ['味全龍\\n林政賢\\n1', '1', '0', '1', '0', '0', '0', '1', '1.000', '0', '（0）', '0', '0', '1.000', '0.000'], ['味全龍\\n劉家愷\\n2', '2', '0', '1', '0', '0', '0', '1', '0.500', '0', '（0）', '0', '0', '0.500', '0.000'], ['味全龍\\n伍鐸\\n23', '22', '1', '12', '0', '0', '0', '12', '0.545', '1', '（0）', '0', '1', '0.565', '1.250'], ['味全龍\\n羅華韋\\n3', '3', '0', '1', '0', '0', '0', '1', '0.333', '0', '（0）', '0', '0', '0.333', '0.000'], ['味全龍\\n王維中\\n14', '13', '0', '3', '0', '0', '0', '3', '0.231', '1', '（0）', '0', '1', '0.286', '3.500'], ['味全龍\\n林子昱\\n15', '15', '1', '6', '0', '0', '0', '6', '0.400', '0', '（0）', '0', '1', '0.400', '1.667'], ['味全龍\\n王玉譜\\n6', '6', '0', '0', '0', '0', '0', '0', '0.000', '0', '（0）', '0', '0', '0.000', '2.000'], ['味全龍\\n廖任磊\\n3', '2', '0', '0', '0', '0', '0', '0', '0.000', '0', '（0）', '1', '0', '0.333', '0.000'], ['味全龍\\n廖文揚\\n1', '1', '0', '1', '0', '0', '0', '1', '1.000', '0', '（0）', '0', '0', '1.000', '0.000'], ['味全龍\\n郭郁政\\n3', '3', '0', '0', '0', '0', '0', '0', '0.000', '0', '（0）', '0', '0', '0.000', '0.500'], ['味全龍\\n徐若熙\\n7', '7', '0', '1', '0', '0', '0', '1', '0.143', '0', '（0）', '0', '3', '0.143', '2.000'], ['味全龍\\n蔡明憲\\n1', '1', '0', '1', '0', '0', '0', '1', '1.000', '0', '（0）', '0', '0', '1.000', '0.000'], ['味全龍\\n呂偉晟\\n2', '2', '0', '2', '0', '0', '0', '2', '1.000', '0', '（0）', '0', '0', '1.000', '0.000'], ['味全龍\\n黃東淯\\n1', '1', '0', '0', '0', '0', '0', '0', '0.000', '0', '（0）', '0', '0', '0.000', '0.000'], ['味全龍\\n陳冠偉\\n2', '1', '0', '1', '0', '0', '0', '1', '1.000', '1', '（0）', '0', '0', '1.000', '0.000'], ['味全龍\\n林逸達\\n6', '6', '1', '2', '0', '0', '0', '2', '0.333', '0', '（0）', '0', '1', '0.333', '2.000'], ['味全龍\\n田澤純一\\n5', '5', '0', '1', '0', '0', '0', '1', '0.200', '0', '（0）', '0', '1', '0.200', '2.000'], ['味全龍\\n布里悍\\n4', '4', '1', '0', '0', '0', '0', '0', '0.000', '0', '（0）', '0', '0', '0.000', '0.000'], ['味全龍\\n鋼龍\\n16', '16', '2', '4', '0', '0', '0', '4', '0.250', '0', '（0）', '0', '2', '0.250', '1.000'], ['味全龍\\n柯西諾\\n3', '3', '0', '0', '0', '0', '0', '0', '0.000', '0', '（0）', '0', '0', '0.000', '0.500'], ['對戰球員', '打席', '打數', '打點', '安打', '二安', '三安', '全壘打', '壘打數', '打擊率', '四壞', '（故四）', '死球', '三振', '上壘率', '滾飛出局比'], ['樂天桃猿\\n朱俊祥\\n3', '3', '0', '1', '0', '0', '0', '1', '0.333', '0', '（0）', '0', '0', '0.333', '1.000'], ['樂天桃猿\\n陳禹勳\\n7', '7', '1', '3', '0', '0', '0', '3', '0.429', '0', '（0）', '0', '2', '0.429', '1.000'], ['樂天桃猿\\n葉家淇\\n2', '2', '1', '1', '0', '0', '0', '1', '0.500', '0', '（0）', '0', '0', '0.500', '0.000'], ['樂天桃猿\\n萬昭清\\n1', '1', '0', '0', '0', '0', '0', '0', '0.000', '0', '（0）', '0', '0', '0.000', '0.000'], ['樂天桃猿\\n陳冠宇\\n8', '6', '0', '2', '1', '0', '0', '3', '0.333', '2', '（0）', '0', '1', '0.500', '0.500'], ['樂天桃猿\\n洪聖欽\\n1', '0', '0', '0', '0', '0', '0', '0', '0.000', '1', '（0）', '0', '0', '1.000', '0.000'], ['樂天桃猿\\n劉昱言\\n1', '1', '0', '0', '0', '0', '0', '0', '0.000', '0', '（0）', '0', '0', '0.000', '0.000'], ['樂天桃猿\\n游朝惟\\n3', '1', '1', '0', '0', '0', '0', '0', '0.000', '1', '（0）', '0', '0', '0.333', '0.000'], ['樂天桃猿\\n黃子鵬\\n12', '12', '0', '5', '2', '0', '0', '7', '0.417', '0', '（0）', '0', '1', '0.417', '0.500'], ['樂天桃猿\\n賴鴻誠\\n6', '6', '0', '2', '0', '0', '0', '2', '0.333', '0', '（0）', '0', '2', '0.333', '0.000'], ['樂天桃猿\\n王溢正\\n2', '2', '1', '1', '0', '0', '0', '1', '0.500', '0', '（0）', '0', '1', '0.500', '0.000'], ['樂天桃猿\\n黃偉晟\\n3', '3', '1', '0', '0', '0', '0', '0', '0.000', '0', '（0）', '0', '0', '0.000', '0.000'], ['樂天桃猿\\n范柏絜\\n1', '1', '0', '0', '0', '0', '0', '0', '0.000', '0', '（0）', '0', '1', '0.000', '0.000'], ['樂天桃猿\\n江國謙\\n1', '1', '0', '1', '0', '0', '0', '1', '1.000', '0', '（0）', '0', '0', '1.000', '0.000'], ['樂天桃猿\\n翁瑋均\\n3', '2', '0', '1', '0', '0', '0', '1', '0.500', '1', '（0）', '0', '0', '0.667', '0.000'], ['樂天桃猿\\n霸林爵\\n27', '26', '2', '9', '2', '0', '0', '11', '0.346', '0', '（0）', '1', '3', '0.370', '3.667'], ['樂天桃猿\\n許峻暘\\n1', '1', '0', '0', '0', '0', '0', '0', '0.000', '0', '（0）', '0', '0', '0.000', '0.000'], ['樂天桃猿\\n莊昕諺\\n1', '1', '0', '1', '1', '0', '0', '2', '1.000', '0', '（0）', '0', '0', '1.000', '0.000'], ['樂天桃猿\\n張喜凱\\n10', '10', '3', '3', '0', '0', '0', '3', '0.300', '0', '（0）', '0', '2', '0.300', '1.500'], ['樂天桃猿\\n蘇俊璋\\n4', '3', '1', '1', '0', '0', '0', '1', '0.333', '1', '（0）', '0', '1', '0.500', '0.000'], ['樂天桃猿\\n李承禎\\n2', '2', '0', '1', '0', '0', '0', '1', '0.500', '0', '（0）', '0', '1', '0.500', '0.000'], ['樂天桃猿\\n林子崴\\n6', '4', '0', '0', '0', '0', '0', '0', '0.000', '2', '（0）', '0', '0', '0.333', '1.000'], ['樂天桃猿\\n歐飛登\\n2', '2', '1', '1', '0', '0', '0', '1', '0.500', '0', '（0）', '0', '0', '0.500', '0.000'], ['樂天桃猿\\n猛快\\n12', '10', '1', '5', '0', '0', '0', '5', '0.500', '2', '（0）', '0', '1', '0.583', '1.000'], ['樂天桃猿\\n豪勁\\n8', '7', '3', '3', '0', '0', '0', '3', '0.429', '0', '（0）', '0', '0', '0.429', '3.000'], ['樂天桃猿\\n狂威\\n10', '10', '0', '2', '0', '0', '0', '2', '0.200', '0', '（0）', '0', '1', '0.200', '6.000'], ['對戰球員', '打席', '打數', '打點', '安打', '二安', '三安', '全壘打', '壘打數', '打擊率', '四壞', '（故四）', '死球', '三振', '上壘率', '滾飛出局比'], ['統一7-ELEVEn獅\\n邱浩鈞\\n3', '2', '0', '0', '0', '0', '0', '0', '0.000', '1', '（0）', '0', '1', '0.333', '0.000'], ['統一7-ELEVEn獅\\n胡智為\\n9', '9', '0', '2', '0', '0', '0', '2', '0.222', '0', '（0）', '0', '3', '0.222', '3.000'], ['統一7-ELEVEn獅\\n鄭鈞仁\\n7', '7', '0', '2', '1', '0', '0', '3', '0.286', '0', '（0）', '0', '0', '0.286', '4.000'], ['統一7-ELEVEn獅\\n施子謙\\n1', '1', '0', '0', '0', '0', '0', '0', '0.000', '0', '（0）', '0', '0', '0.000', '0.000'], ['統一7-ELEVEn獅\\n潘威倫\\n3', '3', '0', '3', '0', '0', '0', '3', '1.000', '0', '（0）', '0', '0', '1.000', '0.000'], ['統一7-ELEVEn獅\\n江辰晏\\n6', '6', '0', '1', '0', '0', '0', '1', '0.167', '0', '（0）', '0', '0', '0.167', '0.000'], ['統一7-ELEVEn獅\\n陳韻文\\n6', '6', '0', '3', '0', '0', '0', '3', '0.500', '0', '（0）', '0', '0', '0.500', '2.000'], ['統一7-ELEVEn獅\\n林子崴\\n1', '1', '0', '0', '0', '0', '0', '0', '0.000', '0', '（0）', '0', '1', '0.000', '0.000'], ['統一7-ELEVEn獅\\n王鏡銘\\n4', '4', '0', '0', '0', '0', '0', '0', '0.000', '0', '（0）', '0', '0', '0.000', '0.333'], ['統一7-ELEVEn獅\\n江承峰\\n3', '3', '0', '1', '0', '0', '0', '1', '0.333', '0', '（0）', '0', '0', '0.333', '0.000'], ['統一7-ELEVEn獅\\n劉軒荅\\n5', '5', '0', '2', '0', '0', '0', '2', '0.400', '0', '（0）', '0', '1', '0.400', '1.000'], ['統一7-ELEVEn獅\\n古林睿煬\\n10', '7', '0', '3', '0', '0', '0', '3', '0.429', '3', '（0）', '0', '1', '0.600', '0.500'], ['統一7-ELEVEn獅\\n姚杰宏\\n3', '3', '2', '1', '0', '0', '0', '1', '0.333', '0', '（0）', '0', '0', '0.333', '1.000'], ['統一7-ELEVEn獅\\n吳承諭\\n8', '8', '0', '2', '0', '0', '0', '2', '0.250', '0', '（0）', '0', '1', '0.250', '0.250'], ['統一7-ELEVEn獅\\n飛利士\\n16', '14', '0', '5', '0', '0', '0', '5', '0.357', '1', '（0）', '0', '1', '0.400', '3.000'], ['統一7-ELEVEn獅\\n布雷克\\n28', '28', '2', '12', '1', '0', '0', '13', '0.429', '0', '（0）', '0', '5', '0.429', '1.750'], ['統一7-ELEVEn獅\\n霸能\\n7', '7', '0', '2', '0', '0', '0', '2', '0.286', '0', '（0）', '0', '1', '0.286', '3.000'], ['統一7-ELEVEn獅\\n李其峰\\n1', '0', '0', '0', '0', '0', '0', '0', '0.000', '1', '（0）', '0', '0', '1.000', '0.000'], ['統一7-ELEVEn獅\\n猛威爾\\n8', '7', '1', '3', '0', '0', '0', '3', '0.429', '1', '（0）', '0', '0', '0.500', '0.000'], ['統一7-ELEVEn獅\\n泰迪\\n4', '4', '1', '1', '0', '0', '0', '1', '0.250', '0', '（0）', '0', '1', '0.250', '0.000']]\n"
     ]
    }
   ],
   "source": [
    "# print(player_detail[0][\"detail\"])"
   ]
  },
  {
   "cell_type": "code",
   "execution_count": 117,
   "metadata": {},
   "outputs": [
    {
     "name": "stdout",
     "output_type": "stream",
     "text": [
      "    name position                                             detail\n",
      "0  江亮緯27     中外野手  [[對戰球員, 打席, 打數, 打點, 安打, 二安, 三安, 全壘打, 壘打數, 打擊率,...\n",
      "1  何恆佑53      一壘手  [[對戰球員, 打席, 打數, 打點, 安打, 二安, 三安, 全壘打, 壘打數, 打擊率,...\n",
      "2  吳桀睿62      一壘手  [[對戰球員, 打席, 打數, 打點, 安打, 二安, 三安, 全壘打, 壘打數, 打擊率,...\n",
      "3   李丞齡9     右外野手  [[對戰球員, 打席, 打數, 打點, 安打, 二安, 三安, 全壘打, 壘打數, 打擊率,...\n",
      "4   林子豪2      三壘手  [[對戰球員, 打席, 打數, 打點, 安打, 二安, 三安, 全壘打, 壘打數, 打擊率,...\n"
     ]
    }
   ],
   "source": [
    "import json\n",
    "import pandas as pd\n",
    "df = pd.DataFrame(player_detail)\n",
    "print(df.head())\n",
    "df.to_json(\"fight_{}.json\".format(team),orient = 'records', lines=True, force_ascii=False)"
   ]
  }
 ],
 "metadata": {
  "interpreter": {
   "hash": "e9e9659f9897cfd6b7afd89e544cef57bae1f1956b4f32703a15343c99bd0a79"
  },
  "kernelspec": {
   "display_name": "Python 3.9.10 ('venv': venv)",
   "language": "python",
   "name": "python3"
  },
  "language_info": {
   "codemirror_mode": {
    "name": "ipython",
    "version": 3
   },
   "file_extension": ".py",
   "mimetype": "text/x-python",
   "name": "python",
   "nbconvert_exporter": "python",
   "pygments_lexer": "ipython3",
   "version": "3.9.10"
  },
  "orig_nbformat": 4
 },
 "nbformat": 4,
 "nbformat_minor": 2
}
